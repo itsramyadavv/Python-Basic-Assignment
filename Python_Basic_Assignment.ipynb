{
  "nbformat": 4,
  "nbformat_minor": 0,
  "metadata": {
    "colab": {
      "provenance": []
    },
    "kernelspec": {
      "name": "python3",
      "display_name": "Python 3"
    },
    "language_info": {
      "name": "python"
    }
  },
  "cells": [
    {
      "cell_type": "markdown",
      "source": [
        "# Python Basic Assignment\n",
        "\n",
        " # Q1 What is Python, and why is it popular?\n",
        "  \n",
        "  -> python is a programming language that is easy to understand and write, making it a top choice among developer.\n",
        "  \n",
        "  -> it has an extenssive library , and third party packages for varios domains."
      ],
      "metadata": {
        "id": "U4AWckIQ-GkV"
      }
    },
    {
      "cell_type": "markdown",
      "source": [
        "#Q2 What is an interpreter in Python?.\n",
        "\n",
        "  -> A python interpreter serves as the bridge between your human-readable python code and the machine-level instructions executed by your computer.\n"
      ],
      "metadata": {
        "id": "hSGcPJe1BBcm"
      }
    },
    {
      "cell_type": "markdown",
      "source": [],
      "metadata": {
        "id": "pBN6oGKZBBXw"
      }
    },
    {
      "cell_type": "markdown",
      "source": [
        "# Q3  What are pre-defined keywords in Python?\n",
        "\n",
        "  -> pre-defined keyword are reserved words in python that have special meaning and cannot be used as identifiers.\n",
        "\n",
        "  -> Examples- if,else,while ,for, def, class,import etc.\n",
        "  -> keywords are case-sensitive and can't ne redefined."
      ],
      "metadata": {
        "id": "QRYDy2o0BBSI"
      }
    },
    {
      "cell_type": "markdown",
      "source": [
        "# Q4  Can keywords be used as variable names\n",
        "  -> You cannot use Python keywords as variable names. these words are reserved for the language itself and if you trying to use them will result in a SyntaxError"
      ],
      "metadata": {
        "id": "boyEAGYOBBOS"
      }
    },
    {
      "cell_type": "markdown",
      "source": [
        "# Q5 What is mutability in Python?\n",
        "\n",
        "  - In python, object can be either changeable or unchangeable\n",
        "  - mutable objects, such as list and dictionary, can be modified after creation\n",
        "  - it also affects how objects are stored and manipulated in memory,impacting performance,memory us\n"
      ],
      "metadata": {
        "id": "gHzaB_xfBBJE"
      }
    },
    {
      "cell_type": "markdown",
      "source": [
        "# Q6 Why are lists mutable, but tuples are immutable?\n",
        "\n",
        "\n",
        "   - Lists allow modifications—adding, removing, or changing elements—because they’re designed for dynamic collections. Their internal structure supports in-place updates.\n",
        "\n",
        "   -Tuples are fixed-size and unchangeable once created—you cannott alter an element or add/remove items. this immutability ensures reliability, enables use as dictionary keys, and can slightly improve performance."
      ],
      "metadata": {
        "id": "txt9PZJOMXez"
      }
    },
    {
      "cell_type": "markdown",
      "source": [
        "# Q7 What is the difference between “==” and “is” operators in Python?\n",
        "  \n",
        "   -> \"==\" (equality) operator\n",
        "   - it Compares values/content of two objects.\n",
        "     Returns True if the values are equivalent, even if they’re separate objects.\n",
        "\n",
        "  -> “is” Operator\n",
        "  - Checks if both variables reference the exact same object in memory.\n",
        "     Returns True only when the objects are identical.\n"
      ],
      "metadata": {
        "id": "hlr0GUJrMXax"
      }
    },
    {
      "cell_type": "markdown",
      "source": [
        "# Q8 What are logical operators in Python?\n",
        "\n",
        "  - Logical operators in Python are used to combine conditional statements (i.e., expressions that return True or False). They are commonly used in control flow (like if statements) and boolean logic operations.\n"
      ],
      "metadata": {
        "id": "1M6ZDVBDMXWK"
      }
    },
    {
      "cell_type": "markdown",
      "source": [
        "# Q9 What is type casting in Python?\n",
        "\n",
        "  - Type casting in Python means converting the data type of a value from one type to another — for example, converting a string to an integer, or an integer to a float.\n",
        "\n",
        "  - These are two types\n",
        "        - implicit type casting - automatic\n",
        "        - Explicit type casting - manual\n",
        "\n",
        "  - Not all type conversions are valid. Trying to cast a non-numeric string to int() will cause an error"
      ],
      "metadata": {
        "id": "MOPoDyn1MXEw"
      }
    },
    {
      "cell_type": "markdown",
      "source": [
        "# Q10 What is the difference between implicit and explicit type casting?\n",
        "\n",
        " - Implicit type casting -It is when Python automatically converts one data type to another during an operation, without you needing to do anything. This happens only when the conversion is safe and won't lose information. For example, if you add an integer and a float, Python automatically converts the integer to a float.\n",
        "\n",
        " - Explicit type casting - It is when you manually convrrt one data type into another using functions like int(), float(), str(), or bool(). it is done when you need to control the conversion, such as converting user input (which is usually a string) into a number.\n"
      ],
      "metadata": {
        "id": "CQDdsVahSgHp"
      }
    },
    {
      "cell_type": "markdown",
      "source": [
        "# Q11 What is the purpose of conditional statements in Python?\n",
        "\n",
        "  - Conditional statements help your program \"decide what to do\" based on certain situations\n",
        "  - if, elif and else\n",
        "\n"
      ],
      "metadata": {
        "id": "boHk0iJBSgRh"
      }
    },
    {
      "cell_type": "markdown",
      "source": [
        "# Q12  How does the elif statement work?\n",
        "\n",
        "  - How it works:\n",
        "\n",
        "    - Python checks the if condition.\n",
        "\n",
        "    - If (if) false, then it checks the elif condition.\n",
        "\n",
        "    - If elif is true, then it runs that block.\n",
        "\n",
        "If none are true, the else block runs (if present).\n",
        "\n"
      ],
      "metadata": {
        "id": "fv2MA9baUvny"
      }
    },
    {
      "cell_type": "markdown",
      "source": [
        "# Q13 What is the difference between for and while loops?\n",
        "\n",
        "  - for loop:\n",
        "      - Used when you know in advance how many times to be repeat.\n",
        "       - It loops over a sequence (like a list, string, or range).\n",
        "  - while loop:\n",
        "     - it is used when you don’t know how many times to loop — it continues as long as a condition is true.\n",
        "      - You must manually update the variable inside the loop, or it may run forever."
      ],
      "metadata": {
        "id": "VPwKK89kUvgy"
      }
    },
    {
      "cell_type": "markdown",
      "source": [
        "# Q14 Describe a scenario where a while loop is more suitable than a for loop.?\n",
        "\n",
        "  - We have learned in class to make a password by using while loop\n",
        "\n",
        "     - Example: User login attempt\n",
        "\n",
        "      - Imagine you are creating a login system that should keep asking the user for a password until they enter the correct one. You don not know how many times they'll get it wrong, so a while loop is better.\n"
      ],
      "metadata": {
        "id": "N1Vv6sNCUvWE"
      }
    },
    {
      "cell_type": "markdown",
      "source": [
        "# practical Question"
      ],
      "metadata": {
        "id": "uOGgN5gNZwJr"
      }
    },
    {
      "cell_type": "code",
      "execution_count": 1,
      "metadata": {
        "id": "pmb5VKV3-B_e",
        "colab": {
          "base_uri": "https://localhost:8080/"
        },
        "outputId": "f62192d1-c2d9-4e26-f30e-e6ce67ee1c7f"
      },
      "outputs": [
        {
          "output_type": "stream",
          "name": "stdout",
          "text": [
            "Hello\n"
          ]
        }
      ],
      "source": [
        "# Q1  Write a Python program to print \"Hello, World! ?\n",
        "\n",
        "greeting = \"Hello\"\n",
        "print(greeting)"
      ]
    },
    {
      "cell_type": "code",
      "source": [
        "# Q2  Write a Python program that displays your name and age?\n",
        "\n",
        "name = \"Ram\"\n",
        "age = \" 22\"\n",
        "\n",
        "print(f\"This is my name {name} and i'm{age} old\")"
      ],
      "metadata": {
        "colab": {
          "base_uri": "https://localhost:8080/"
        },
        "id": "FG5Mud1DaSm0",
        "outputId": "a21b8c12-57f6-4e7e-ae48-9b8a23a3abc3"
      },
      "execution_count": 4,
      "outputs": [
        {
          "output_type": "stream",
          "name": "stdout",
          "text": [
            "This is my name Ram and i'm 22 old\n"
          ]
        }
      ]
    },
    {
      "cell_type": "code",
      "source": [
        "# Q3  Write code to print all the pre-defined keywords in Python using the keyword library ?\n",
        "\n",
        "help(\"keywords\")\n",
        "help\n"
      ],
      "metadata": {
        "colab": {
          "base_uri": "https://localhost:8080/"
        },
        "id": "UvPVaBlmaSjV",
        "outputId": "e7ed7eac-f0f0-4ad3-da8c-afe214da2903"
      },
      "execution_count": 5,
      "outputs": [
        {
          "output_type": "stream",
          "name": "stdout",
          "text": [
            "\n",
            "Here is a list of the Python keywords.  Enter any keyword to get more help.\n",
            "\n",
            "False               class               from                or\n",
            "None                continue            global              pass\n",
            "True                def                 if                  raise\n",
            "and                 del                 import              return\n",
            "as                  elif                in                  try\n",
            "assert              else                is                  while\n",
            "async               except              lambda              with\n",
            "await               finally             nonlocal            yield\n",
            "break               for                 not                 \n",
            "\n"
          ]
        },
        {
          "output_type": "execute_result",
          "data": {
            "text/plain": [
              "Type help() for interactive help, or help(object) for help about object."
            ]
          },
          "metadata": {},
          "execution_count": 5
        }
      ]
    },
    {
      "cell_type": "code",
      "source": [
        "# Q4  Write a program that checks if a given word is a Python keyword.?\n",
        "\n",
        "import keyword\n",
        "word = input(\"Enter a word: \") # this will ask user to enter searchable word\n",
        "\n",
        "if keyword.iskeyword(word):  # Check if the word is a Python keyword\n",
        "    print(f\"'{word}' is a Python keyword.\")\n",
        "else:\n",
        "    print(f\"'{word}' is not a Python keyword.\")\n"
      ],
      "metadata": {
        "colab": {
          "base_uri": "https://localhost:8080/"
        },
        "id": "q5NzDyf2aSaI",
        "outputId": "2c458e74-cb48-4c5f-f957-ef2fafad955c"
      },
      "execution_count": 6,
      "outputs": [
        {
          "output_type": "stream",
          "name": "stdout",
          "text": [
            "Enter a word: is\n",
            "'is' is a Python keyword.\n"
          ]
        }
      ]
    },
    {
      "cell_type": "code",
      "source": [
        "# Q5 Create a list and tuple in Python, and demonstrate how attempting to change an element works differently for each.\n",
        "\n",
        "# List (mutable)\n",
        "my_list = [1, 2, 3]\n",
        "my_list[1] = 99   # Here we can change the value\n",
        "print(my_list)       # Output: [1, 99, 3]\n",
        "\n",
        "# Tuple (immutable)\n",
        "my_tuple = (1, 2, 3)\n",
        "my_tuple[1] = 99     # This causes an error\n"
      ],
      "metadata": {
        "colab": {
          "base_uri": "https://localhost:8080/",
          "height": 201
        },
        "id": "u5MZPoa8aSVS",
        "outputId": "cff16daf-f03e-4ce2-f280-422492f58896"
      },
      "execution_count": 7,
      "outputs": [
        {
          "output_type": "stream",
          "name": "stdout",
          "text": [
            "[1, 99, 3]\n"
          ]
        },
        {
          "output_type": "error",
          "ename": "TypeError",
          "evalue": "'tuple' object does not support item assignment",
          "traceback": [
            "\u001b[0;31m---------------------------------------------------------------------------\u001b[0m",
            "\u001b[0;31mTypeError\u001b[0m                                 Traceback (most recent call last)",
            "\u001b[0;32m/tmp/ipython-input-7-311661316.py\u001b[0m in \u001b[0;36m<cell line: 0>\u001b[0;34m()\u001b[0m\n\u001b[1;32m      8\u001b[0m \u001b[0;31m# Tuple (immutable)\u001b[0m\u001b[0;34m\u001b[0m\u001b[0;34m\u001b[0m\u001b[0m\n\u001b[1;32m      9\u001b[0m \u001b[0mmy_tuple\u001b[0m \u001b[0;34m=\u001b[0m \u001b[0;34m(\u001b[0m\u001b[0;36m1\u001b[0m\u001b[0;34m,\u001b[0m \u001b[0;36m2\u001b[0m\u001b[0;34m,\u001b[0m \u001b[0;36m3\u001b[0m\u001b[0;34m)\u001b[0m\u001b[0;34m\u001b[0m\u001b[0;34m\u001b[0m\u001b[0m\n\u001b[0;32m---> 10\u001b[0;31m \u001b[0mmy_tuple\u001b[0m\u001b[0;34m[\u001b[0m\u001b[0;36m1\u001b[0m\u001b[0;34m]\u001b[0m \u001b[0;34m=\u001b[0m \u001b[0;36m99\u001b[0m     \u001b[0;31m# This causes an error\u001b[0m\u001b[0;34m\u001b[0m\u001b[0;34m\u001b[0m\u001b[0m\n\u001b[0m",
            "\u001b[0;31mTypeError\u001b[0m: 'tuple' object does not support item assignment"
          ]
        }
      ]
    },
    {
      "cell_type": "code",
      "source": [
        "# Q6 Write a function to demonstrate the behavior of mutable and immutable arguments.\n",
        "\n",
        "def modify(stuff_list, stuff_num):\n",
        "    stuff_list.append(99)   # mutates the original list\n",
        "    stuff_num += 99         # creates a new integer locally\n",
        "\n",
        "# Prepare variables\n",
        "my_list = [1, 2, 3]\n",
        "my_num = 5\n",
        "\n",
        "print(\"Before:\", my_list, my_num)  # [1, 2, 3] 5\n",
        "modify(my_list, my_num)\n",
        "print(\"After: \", my_list, my_num)  # [1, 2, 3, 99] 5\n",
        "\n",
        "\"\"\"\n",
        "What this shows:\n",
        "Lists are mutable, so append(99) modifies the original list, and the change is visible outside the function.\n",
        "Integers are immutable, so stuff_num += 99 only gives a new integer inside the function; the original my_num remains 5.\n",
        "This behavior is a core principle in Python's handling of data types and function parameters \"\"\"\n"
      ],
      "metadata": {
        "colab": {
          "base_uri": "https://localhost:8080/"
        },
        "id": "9rgmqErmaSRJ",
        "outputId": "d0c17675-184f-4c3d-9465-8c3372dd66b7"
      },
      "execution_count": 8,
      "outputs": [
        {
          "output_type": "stream",
          "name": "stdout",
          "text": [
            "Before: [1, 2, 3] 5\n",
            "After:  [1, 2, 3, 99] 5\n"
          ]
        }
      ]
    },
    {
      "cell_type": "code",
      "source": [
        "# Q7. Write a program that performs basic arithmetic operations on two user-input numbers.\n",
        "\n",
        "# Asking user to give a number\n",
        "num1 = float(input(\"Enter the first number: \"))\n",
        "num2 = float(input(\"Enter the second number: \"))\n",
        "\n",
        "# Performing operations\n",
        "print(f\"{num1} + {num2} = {num1 + num2}\")\n",
        "print(f\"{num1} - {num2} = {num1 - num2}\")\n",
        "print(f\"{num1} * {num2} = {num1 * num2}\")\n",
        "print(f\"{num1} / {num2} = {num1 / num2}\")\n",
        "print(f\"{num1} // {num2} = {num1 // num2}\")\n",
        "print(f\"{num1} % {num2} = {num1 % num2}\")\n",
        "print(f\"{num1} ** {num2} = {num1 ** num2}\")\n",
        "\n"
      ],
      "metadata": {
        "colab": {
          "base_uri": "https://localhost:8080/"
        },
        "id": "uvkb0QKbaSI_",
        "outputId": "2059dc72-7241-4b8e-afbf-9c3d49460c6b"
      },
      "execution_count": 9,
      "outputs": [
        {
          "output_type": "stream",
          "name": "stdout",
          "text": [
            "Enter the first number: 23\n",
            "Enter the second number: 23\n",
            "23.0 + 23.0 = 46.0\n",
            "23.0 - 23.0 = 0.0\n",
            "23.0 * 23.0 = 529.0\n",
            "23.0 / 23.0 = 1.0\n",
            "23.0 // 23.0 = 1.0\n",
            "23.0 % 23.0 = 0.0\n",
            "23.0 ** 23.0 = 2.088046799984791e+31\n"
          ]
        }
      ]
    },
    {
      "cell_type": "code",
      "source": [
        "# Q8 Write a program to demonstrate the use of logical operators.\n",
        "\n",
        "# Getting two boolean-like inputs\n",
        "a = True\n",
        "b = False\n",
        "\n",
        "# Demonstrate logical operators\n",
        "print(\"a and b is\", a and b)   # True only if both are True\n",
        "print(\"a or b is\", a or b)     # True if at least one is True\n",
        "print(\"not a is\", not a)       # Reverses the value of a\n",
        "\n",
        "\n"
      ],
      "metadata": {
        "colab": {
          "base_uri": "https://localhost:8080/"
        },
        "id": "NFMLUiaAaSFq",
        "outputId": "a3870b9a-2f5c-4015-c999-2feae9d4ab14"
      },
      "execution_count": 10,
      "outputs": [
        {
          "output_type": "stream",
          "name": "stdout",
          "text": [
            "a and b is False\n",
            "a or b is True\n",
            "not a is False\n"
          ]
        }
      ]
    },
    {
      "cell_type": "code",
      "source": [
        "# Q9. Write a Python program to convert user input from string to integer, float, and boolean types.\n",
        "\n",
        "s = input(\"Enter something: \")\n",
        "\n",
        "# 2. Converting to int\n",
        "try:\n",
        "    i = int(s)\n",
        "    print(\"As int:   \", i)\n",
        "except ValueError:\n",
        "    print(\"As int:   invalid integer\")\n",
        "\n",
        "# 3. Converting to float\n",
        "try:\n",
        "    f = float(s)\n",
        "    print(\"As float: \", f)\n",
        "except ValueError:\n",
        "    print(\"As float: invalid float\")\n",
        "\n",
        "# 4. Converting to boolean (simple rule: only 'true' is True)\n",
        "b = (s.strip() == \"true\")\n",
        "print(\"As boolean:  \", b)  # True if exactly \"true\" (case-insensitive), else False\n",
        "\n"
      ],
      "metadata": {
        "colab": {
          "base_uri": "https://localhost:8080/"
        },
        "id": "NLzEn9S-aSCa",
        "outputId": "08205f49-cf42-4a25-ffd5-c0a2a7423db0"
      },
      "execution_count": 14,
      "outputs": [
        {
          "output_type": "stream",
          "name": "stdout",
          "text": [
            "Enter something: 6\n",
            "As int:    6\n",
            "As float:  6.0\n",
            "As boolean:   False\n"
          ]
        }
      ]
    },
    {
      "cell_type": "code",
      "source": [
        "# Q10. Write code to demonstrate type casting with list elements.\n",
        "\n",
        "# list of integers\n",
        "numbers = [1, 2, 3, 4]\n",
        "\n",
        "# Converting each integer to string using list comprehension\n",
        "str_numbers = [str(x) for x in numbers]\n",
        "\n",
        "print(str_numbers)  # Output: ['1', '2', '3', '4']\n"
      ],
      "metadata": {
        "colab": {
          "base_uri": "https://localhost:8080/"
        },
        "id": "j_OEay5uaR-A",
        "outputId": "56902062-f125-4cf3-8b8c-fdb4d172b0b2"
      },
      "execution_count": 15,
      "outputs": [
        {
          "output_type": "stream",
          "name": "stdout",
          "text": [
            "['1', '2', '3', '4']\n"
          ]
        }
      ]
    },
    {
      "cell_type": "code",
      "source": [
        "# Q 11. Write a program that checks if a number is positive, negative, or zero.\n",
        "\n",
        "num = float(input(\"Enter a number: \"))\n",
        "\n",
        "if num > 0:\n",
        "    print(\"Positive number\")\n",
        "elif num == 0:\n",
        "    print(\"Zero\")\n",
        "else:\n",
        "    print(\"Negative number\")\n"
      ],
      "metadata": {
        "colab": {
          "base_uri": "https://localhost:8080/"
        },
        "id": "8F95zEYqaR5C",
        "outputId": "49861e3f-0469-4f1d-e0ac-12f7708cde25"
      },
      "execution_count": 16,
      "outputs": [
        {
          "output_type": "stream",
          "name": "stdout",
          "text": [
            "Enter a number: 88\n",
            "Positive number\n"
          ]
        }
      ]
    },
    {
      "cell_type": "code",
      "source": [
        "# Q12. Write a for loop to print numbers from 1 to 10.\n",
        "\n",
        "for  i in range(1,11):\n",
        "  print(i)"
      ],
      "metadata": {
        "colab": {
          "base_uri": "https://localhost:8080/"
        },
        "id": "IonnSkMgaR1C",
        "outputId": "fb47b092-123e-4071-c705-f4402759ec90"
      },
      "execution_count": 18,
      "outputs": [
        {
          "output_type": "stream",
          "name": "stdout",
          "text": [
            "1\n",
            "2\n",
            "3\n",
            "4\n",
            "5\n",
            "6\n",
            "7\n",
            "8\n",
            "9\n",
            "10\n"
          ]
        }
      ]
    },
    {
      "cell_type": "code",
      "source": [
        "# Q13. Write a Python program to find the sum of all even numbers between 1 and 50.\n",
        "\n",
        "total = 0\n",
        "for i in range(2, 51, 2):   # start at 2, go to 50 by steps of 2\n",
        "    total += i\n",
        "\n",
        "print(\"Sum of even numbers from 1 to 50 is:\", total)\n"
      ],
      "metadata": {
        "colab": {
          "base_uri": "https://localhost:8080/"
        },
        "id": "JW0zph6haRxJ",
        "outputId": "531bd19c-a2ef-491f-836b-338ff8a2024f"
      },
      "execution_count": 19,
      "outputs": [
        {
          "output_type": "stream",
          "name": "stdout",
          "text": [
            "Sum of even numbers from 1 to 50 is: 650\n"
          ]
        }
      ]
    },
    {
      "cell_type": "code",
      "source": [
        "# Q14. Write a program to reverse a string using a while loop.\n",
        "\n",
        "s = input(\"Enter a string: \")\n",
        "\n",
        "# Prepare to build the reversed version\n",
        "reversed_s = \"\"\n",
        "i = len(s) - 1  # start from the last character\n",
        "\n",
        "# Loop backwards until the first character\n",
        "while i >= 0:\n",
        "    reversed_s += s[i]\n",
        "    i -= 1\n",
        "\n",
        "# Display the result\n",
        "print(\"Reversed string:\", reversed_s)\n",
        "\n",
        "\n"
      ],
      "metadata": {
        "colab": {
          "base_uri": "https://localhost:8080/"
        },
        "id": "vm9NUr8laRo-",
        "outputId": "097ad8c8-159f-4148-80db-18170df20b64"
      },
      "execution_count": 20,
      "outputs": [
        {
          "output_type": "stream",
          "name": "stdout",
          "text": [
            "Enter a string: ram\n",
            "Reversed string: mar\n"
          ]
        }
      ]
    },
    {
      "cell_type": "code",
      "source": [
        "# Q15. Write a Python program to calculate the factorial of a number provided by the user using a while loop.\n",
        "\n",
        "\n",
        "n = int(input(\"Enter a non-negative integer: \"))\n",
        "\n",
        "# starts with result\n",
        "fact = 1\n",
        "i = n\n",
        "\n",
        "# Calculate factorial with a while loop\n",
        "while i > 1:\n",
        "    fact *= i\n",
        "    i -= 1\n",
        "\n",
        "# Output the result\n",
        "print(f\"The factorial of {n} is {fact}\")\n"
      ],
      "metadata": {
        "colab": {
          "base_uri": "https://localhost:8080/"
        },
        "id": "tZm0CAWziu2-",
        "outputId": "897524ed-326a-4dd8-9c3d-1239d4a5b8a3"
      },
      "execution_count": 27,
      "outputs": [
        {
          "output_type": "stream",
          "name": "stdout",
          "text": [
            "Enter a non-negative integer: 4\n",
            "The factorial of 4 is 24\n"
          ]
        }
      ]
    },
    {
      "cell_type": "code",
      "source": [],
      "metadata": {
        "id": "eFT4AbHBiuzy"
      },
      "execution_count": 27,
      "outputs": []
    },
    {
      "cell_type": "code",
      "source": [],
      "metadata": {
        "id": "teFrLmnqiurB"
      },
      "execution_count": null,
      "outputs": []
    },
    {
      "cell_type": "code",
      "source": [],
      "metadata": {
        "id": "6SY4P8dJiunT"
      },
      "execution_count": null,
      "outputs": []
    },
    {
      "cell_type": "code",
      "source": [],
      "metadata": {
        "id": "daOGEjFGiujH"
      },
      "execution_count": null,
      "outputs": []
    },
    {
      "cell_type": "code",
      "source": [],
      "metadata": {
        "id": "ei3Ijc5eiuX2"
      },
      "execution_count": null,
      "outputs": []
    }
  ]
}